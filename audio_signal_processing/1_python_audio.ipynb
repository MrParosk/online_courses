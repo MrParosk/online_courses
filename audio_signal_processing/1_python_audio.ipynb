{
 "cells": [
  {
   "cell_type": "code",
   "execution_count": 1,
   "metadata": {},
   "outputs": [],
   "source": [
    "from scipy.io.wavfile import read\n",
    "import numpy as np"
   ]
  },
  {
   "cell_type": "markdown",
   "metadata": {},
   "source": [
    "# A1: Python and sounds"
   ]
  },
  {
   "cell_type": "markdown",
   "metadata": {},
   "source": [
    "# Part-1: Reading a wav audio file"
   ]
  },
  {
   "cell_type": "code",
   "execution_count": 2,
   "metadata": {},
   "outputs": [],
   "source": [
    "def readAudio(inputFile):\n",
    "    \"\"\"\n",
    "    Input:\n",
    "        inputFile: the path to the wav file      \n",
    "    Output:\n",
    "        The function should return a numpy array that contains 10 samples of the audio.\n",
    "    \"\"\"\n",
    "    \n",
    "    ## Your code here\n",
    "    (fs, x) = read(inputFile)\n",
    "    y = x[50000:50010]\n",
    "    return y\n",
    "\n",
    "\n",
    "output = readAudio(\"sounds/piano.wav\")\n",
    "assert(len(output) == 10)"
   ]
  },
  {
   "cell_type": "markdown",
   "metadata": {},
   "source": [
    "# Part-2: Basic operations with audio"
   ]
  },
  {
   "cell_type": "code",
   "execution_count": 3,
   "metadata": {},
   "outputs": [],
   "source": [
    "def minMaxAudio(inputFile):\n",
    "    \"\"\"\n",
    "    Input:\n",
    "        inputFile: file path to the wav file\n",
    "    Output:\n",
    "        A tuple of the minimum and the maximum value of the audio samples, like: (min_val, max_val)\n",
    "    \"\"\"\n",
    "    y = readAudio(inputFile)\n",
    "    return (np.amin(y), np.amax(y))\n",
    "\n",
    "\n",
    "expected = (-12563, 11902)\n",
    "output = minMaxAudio(\"sounds/oboe-A4.wav\")\n",
    "assert(expected==output)"
   ]
  },
  {
   "cell_type": "markdown",
   "metadata": {},
   "source": [
    "# Part-3: Python array indexing"
   ]
  },
  {
   "cell_type": "code",
   "execution_count": 4,
   "metadata": {},
   "outputs": [],
   "source": [
    "def hopSamples(x, M):\n",
    "    \"\"\"\n",
    "    Inputs:\n",
    "        x: input numpy array\n",
    "        M: hop size (positive integer)\n",
    "    Output:\n",
    "        A numpy array containing every Mth element in x, starting from the first element in x.\n",
    "    \"\"\"\n",
    "    \n",
    "    return np.arange(0, len(x), M)\n",
    "\n",
    "\n",
    "x = np.arange(10)\n",
    "M = 2\n",
    "expected = np.array([0, 2, 4, 6, 8])\n",
    "output = hopSamples(x, M)\n",
    "assert(np.allclose(output, expected))"
   ]
  },
  {
   "cell_type": "markdown",
   "metadata": {},
   "source": [
    "# Part-4: Downsampling audio - Changing the sampling rate"
   ]
  },
  {
   "cell_type": "code",
   "execution_count": 5,
   "metadata": {},
   "outputs": [],
   "source": [
    "def downsampleAudio(inputFile, M):\n",
    "    \"\"\"\n",
    "    Inputs:\n",
    "        inputFile: file name of the wav file (including path)\n",
    "        M: downsampling factor (positive integer)\n",
    "    \"\"\"\n",
    "    \n",
    "    (fs, x) = read(inputFile)\n",
    "    y = hopSamples(x, M)\n",
    "    return y\n",
    "\n",
    "\n",
    "M = 16\n",
    "(_, expected) = read(\"sounds/oboe-A4.wav\")\n",
    "output = downsampleAudio(\"sounds/oboe-A4.wav\", M)\n",
    "assert(len(output) == int(np.ceil(len(expected)/M)))"
   ]
  }
 ],
 "metadata": {
  "kernelspec": {
   "display_name": "Python 3",
   "language": "python",
   "name": "python3"
  },
  "language_info": {
   "codemirror_mode": {
    "name": "ipython",
    "version": 3
   },
   "file_extension": ".py",
   "mimetype": "text/x-python",
   "name": "python",
   "nbconvert_exporter": "python",
   "pygments_lexer": "ipython3",
   "version": "3.6.4"
  }
 },
 "nbformat": 4,
 "nbformat_minor": 2
}
