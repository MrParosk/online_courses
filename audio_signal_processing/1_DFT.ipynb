{
 "cells": [
  {
   "cell_type": "code",
   "execution_count": 1,
   "metadata": {},
   "outputs": [],
   "source": [
    "import numpy as np"
   ]
  },
  {
   "cell_type": "markdown",
   "metadata": {},
   "source": [
    "# Real sinusoid\n",
    "\n",
    "A real sinusoid in discrete time domain can be expressed by: $x[n] = A cos(2 \\pi f n T + \\phi)$ where, $x$ is the array of real values of the sinusoid, $n$ is an integer value expressing the time index, $A$ is the amplitude value of the sinusoid, $f$ is the frequency value of the sinusoid in Hz, $T$ is the sampling period equal to $1/f_s$, $f_s$ is the sampling frequency in Hz, and $\\phi$ is the initial phase of the sinusoid in radians."
   ]
  },
  {
   "cell_type": "code",
   "execution_count": 2,
   "metadata": {},
   "outputs": [],
   "source": [
    "def genSine(A, f, phi, fs, t):\n",
    "    \"\"\"\n",
    "    Inputs:\n",
    "        A (float) = amplitude of the sinusoid\n",
    "        f (float) = frequency of the sinusoid in Hz\n",
    "        phi (float) = initial phase of the sinusoid in radians\n",
    "        fs (float) = sampling frequency of the sinusoid in Hz\n",
    "        t (float) = duration of the sinusoid (is second)\n",
    "    Output:\n",
    "        x (numpy array) = The generated sinusoid\n",
    "    \"\"\"\n",
    "    \n",
    "    t_array = np.arange(0, t, 1/fs)\n",
    "    x = A*np.cos(2*np.pi*f*t_array + phi)\n",
    "    x = x.reshape(len(x), 1)\n",
    "    return x"
   ]
  },
  {
   "cell_type": "code",
   "execution_count": 3,
   "metadata": {},
   "outputs": [],
   "source": [
    "A=1.0; f=10.0; phi=1.0; fs=50.0; t=0.1\n",
    "output = genSine(A, f, phi, fs, t)\n",
    "expected = np.array([0.54030231, -0.63332387, -0.93171798, 0.05749049, 0.96724906]).reshape([5,1])\n",
    "assert(np.allclose(output, expected))"
   ]
  },
  {
   "cell_type": "markdown",
   "metadata": {},
   "source": [
    "# Complex sinusoid\n",
    "\n",
    "A complex sinusoid in discrete time domain can be expressed by: $\\bar{x}[n] = Ae^{j(\\omega nT + \\phi)} = A cos(\\omega nT + \\phi) + j A sin(\\omega nT + \\phi)$ where, $\\bar{x}$ is the array of complex values of the sinusoid, $n$ is an integer value expressing the time index, $A$ is the amplitude value of the sinusoid, $\\omega$ is the frequency of the sinusoid in radians per second (equal to $2 \\pi f$), $T$ is the sampling period equal $1/f_s$, $f_s$ is the sampling frequency in Hz and $\\phi$ is the initial phase of the sinusoid in radians."
   ]
  },
  {
   "cell_type": "code",
   "execution_count": 4,
   "metadata": {},
   "outputs": [],
   "source": [
    "def genComplexSine(k, N):\n",
    "    \"\"\"\n",
    "    Note that this formula is not the same as the one above\n",
    "\n",
    "    Inputs:\n",
    "        k (integer) = frequency index of the complex sinusoid of the DFT\n",
    "        N (integer) = length of complex sinusoid in samples\n",
    "    Output:\n",
    "        cSine (numpy array) = The generated complex sinusoid (length N)\n",
    "    \"\"\"\n",
    "    n = np.arange(0, N)\n",
    "    omega = 2*np.pi*k/N\n",
    "    cSine = np.exp(-1j*omega*n)\n",
    "    cSine = cSine.reshape(len(cSine), 1)\n",
    "    return cSine"
   ]
  },
  {
   "cell_type": "code",
   "execution_count": 5,
   "metadata": {},
   "outputs": [],
   "source": [
    "k=1; N=5\n",
    "output = genComplexSine(1, 5)\n",
    "expected = np.array([1.0 + 0.j, 0.30901699 - 0.95105652j,-0.80901699 - 0.58778525j, \n",
    "                     -0.80901699 + 0.58778525j, 0.30901699 + 0.95105652j]).reshape([5,1])\n",
    "assert(np.allclose(output, expected))"
   ]
  },
  {
   "cell_type": "markdown",
   "metadata": {},
   "source": [
    "# Discrete Fourier Transform (DFT)\n",
    "\n",
    "The N point DFT of a sequence of real values $x$ (a sound) can be expressed by:\n",
    "\n",
    "$$X[k] = \\sum_{n=0}^{N-1} x[n] e^{-j 2 \\pi k n /N} $$\n",
    "\n",
    "where $n$ is an integer value expressing the discrete time index, $k$ is an integer value expressing the discrete frequency index, and $N$ is the length of the DFT."
   ]
  },
  {
   "cell_type": "code",
   "execution_count": 6,
   "metadata": {},
   "outputs": [],
   "source": [
    "def DFT(x):\n",
    "    \"\"\"\n",
    "    Input:\n",
    "        x (numpy array) = input sequence of length N\n",
    "    Output:\n",
    "        X (numpy array) = The N point DFT of the input sequence x\n",
    "    \"\"\"\n",
    "    \n",
    "    N = x.shape[0]\n",
    "    X = []\n",
    "    \n",
    "    for k in range(0,N):\n",
    "        cSine = genComplexSine(k, N)\n",
    "        dot = np.dot(cSine.T, x)\n",
    "        X.append(dot)\n",
    "\n",
    "    X = np.concatenate(X, axis=0)\n",
    "    return X\n",
    "    \n",
    "x = np.array([1, 2, 3, 4]).reshape([4,1])\n",
    "expected =  np.array([ 10.0 + 0.0j, -2.+2.0j, -2.0 - 9.79717439e-16j, -2.0 - 2.0j]).reshape([4,1])\n",
    "output = DFT(x)\n",
    "assert(np.allclose(output, expected))"
   ]
  },
  {
   "cell_type": "markdown",
   "metadata": {},
   "source": [
    "# Inverse Discrete Fourier Transform\n",
    "\n",
    "The IDFT of a spectrum $X$ of length $N$ can be expressed by:\n",
    "\n",
    "$$x[n] = \\frac{1}{N} \\sum_{k=0}^{N-1} X[k] e^{j 2 \\pi k n /N}$$\n",
    "\n",
    "where $n = 0, ..., N − 1$. Here, $n$ is an integer value expressing the discrete time index, $k$ is an integer value expressing the discrete frequency index, and $N$ is the length of the spectrum $X$."
   ]
  },
  {
   "cell_type": "code",
   "execution_count": 7,
   "metadata": {},
   "outputs": [],
   "source": [
    "def IDFT(X):\n",
    "    \"\"\"\n",
    "    Input:\n",
    "        X (numpy array) = frequency spectrum (length N)\n",
    "    Output:\n",
    "        x (numpy array) = The IDFT of the frequency spectrum X (length N)\n",
    "    \"\"\"\n",
    "    N = X.shape[0]\n",
    "    x = []\n",
    "    \n",
    "    for k in range(0,N):\n",
    "        cSine = genComplexSine(-k, N)\n",
    "        dot = np.dot(cSine.T, X)/N\n",
    "        x.append(dot)\n",
    "\n",
    "    x = np.concatenate(x, axis=0)\n",
    "    return x\n",
    "    \n",
    "\n",
    "X = np.array([1 ,1 ,1 ,1]).reshape([4,1])\n",
    "expected = np.array([1.0 +0.0j, -4.5924255e-17 +5.5511151e-17j, 0.000000e+00 +6.12323400e-17j, \n",
    "                     8.22616137e-17 +8.32667268e-17j]).reshape([4,1])\n",
    "\n",
    "output = IDFT(X)\n",
    "assert(np.allclose(output, expected))"
   ]
  },
  {
   "cell_type": "markdown",
   "metadata": {},
   "source": [
    "# Magnitude spectrum\n",
    "    \n",
    "The magnitude of a complex spectrum $X$ is obtained by taking its absolute value: $|X[k]|$."
   ]
  },
  {
   "cell_type": "code",
   "execution_count": 8,
   "metadata": {},
   "outputs": [],
   "source": [
    "def genMagSpec(x):\n",
    "    \"\"\"\n",
    "    Input:\n",
    "        x (numpy array) = input sequence of length N\n",
    "    Output:\n",
    "        magX (numpy array) = The length N magnitude spectrum of the input sequence x\n",
    "\n",
    "    \"\"\"\n",
    "    X = DFT(x)\n",
    "    magX = np.empty(X.shape)\n",
    "    for i in range(0, X.shape[0]):\n",
    "        a = np.real(X[i,0])\n",
    "        b = np.imag(X[i,0])\n",
    "        \n",
    "        magX[i,0] = np.sqrt(np.power(a,2) + np.power(b,2))\n",
    "    \n",
    "    return magX\n",
    "\n",
    "x = np.array([1, 2, 3, 4]).reshape([4,1])\n",
    "expected = np.array([10.0, 2.82842712, 2.0, 2.82842712]).reshape([4,1])\n",
    "output = genMagSpec(x)\n",
    "assert(np.allclose(output, expected))"
   ]
  }
 ],
 "metadata": {
  "kernelspec": {
   "display_name": "Python 3",
   "language": "python",
   "name": "python3"
  },
  "language_info": {
   "codemirror_mode": {
    "name": "ipython",
    "version": 3
   },
   "file_extension": ".py",
   "mimetype": "text/x-python",
   "name": "python",
   "nbconvert_exporter": "python",
   "pygments_lexer": "ipython3",
   "version": "3.6.4"
  }
 },
 "nbformat": 4,
 "nbformat_minor": 2
}
