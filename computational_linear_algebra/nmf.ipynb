{
 "cells": [
  {
   "cell_type": "markdown",
   "metadata": {},
   "source": [
    "# NMF\n",
    "\n",
    "![title](figs/nmf.png)\n",
    "\n",
    "The idea is to decompose our matrix into two non-negative matricies, $W$ and $H$:\n",
    "\n",
    "$V \\approx W H$\n",
    "\n",
    "Note that non-negative matrix decomposition is not exact that the solutions are not unique. One of the reasons why NMF is popular is that positive factors are (sometimes) easier to interpret.\n",
    "\n",
    "We can find the two matricies by SGD. We try to minmize the different between $V$ and $W H$ and introduce an penalty when the elements are negative."
   ]
  },
  {
   "cell_type": "code",
   "execution_count": 1,
   "metadata": {},
   "outputs": [],
   "source": [
    "import numpy as np\n",
    "from sklearn.datasets import fetch_20newsgroups\n",
    "from sklearn.feature_extraction.text import TfidfVectorizer\n",
    "\n",
    "import torch\n",
    "import torch.optim as optim"
   ]
  },
  {
   "cell_type": "code",
   "execution_count": 2,
   "metadata": {},
   "outputs": [],
   "source": [
    "categories = ['alt.atheism', 'talk.religion.misc', 'comp.graphics', 'sci.space']\n",
    "remove = ('headers', 'footers', 'quotes')\n",
    "newsgroups = fetch_20newsgroups(subset='train', categories=categories, remove=remove)"
   ]
  },
  {
   "cell_type": "code",
   "execution_count": 3,
   "metadata": {},
   "outputs": [],
   "source": [
    "tfidf = TfidfVectorizer(stop_words='english')\n",
    "X = tfidf.fit_transform(newsgroups.data) # (documents, vocab)\n",
    "X = X.todense()\n",
    "X = np.array(X)"
   ]
  },
  {
   "cell_type": "code",
   "execution_count": 4,
   "metadata": {},
   "outputs": [],
   "source": [
    "num_components = 100\n",
    "lambd = 10\n",
    "device = \"cuda\""
   ]
  },
  {
   "cell_type": "code",
   "execution_count": 5,
   "metadata": {},
   "outputs": [],
   "source": [
    "X = torch.from_numpy(X).float().to(device)"
   ]
  },
  {
   "cell_type": "code",
   "execution_count": 6,
   "metadata": {},
   "outputs": [],
   "source": [
    "torch.manual_seed(42)\n",
    "W = torch.abs(torch.normal(0, 0.01, size=(X.shape[0], num_components))).float().to(device)\n",
    "W.requires_grad = True\n",
    "H = torch.abs(torch.normal(0, 0.01, size=(num_components, X.shape[1]))).float().to(device)\n",
    "H.requires_grad = True"
   ]
  },
  {
   "cell_type": "code",
   "execution_count": 7,
   "metadata": {},
   "outputs": [],
   "source": [
    "def penalty(W, H):\n",
    "    return torch.clamp(-W, min=0).mean() + torch.clamp(-H, min=0).mean()\n",
    "\n",
    "def loss_fct(X, W, H):\n",
    "    return torch.norm(X - W @ H) + lambd * penalty(W, H)"
   ]
  },
  {
   "cell_type": "code",
   "execution_count": 8,
   "metadata": {},
   "outputs": [],
   "source": [
    "optimizer = optim.Adam([W, H], lr=1e-3, betas=(0.9, 0.9))"
   ]
  },
  {
   "cell_type": "code",
   "execution_count": 9,
   "metadata": {},
   "outputs": [
    {
     "name": "stdout",
     "output_type": "stream",
     "text": [
      "Epoch: 0, Loss: 63.71663284301758\n",
      "Epoch: 100, Loss: 41.273345947265625\n",
      "Epoch: 200, Loss: 40.1900520324707\n",
      "Epoch: 300, Loss: 40.085777282714844\n",
      "Epoch: 400, Loss: 40.077972412109375\n",
      "Epoch: 500, Loss: 40.075965881347656\n",
      "Epoch: 600, Loss: 40.07423782348633\n",
      "Epoch: 700, Loss: 40.07283401489258\n",
      "Epoch: 800, Loss: 40.07253646850586\n",
      "Epoch: 900, Loss: 40.07244873046875\n"
     ]
    }
   ],
   "source": [
    "for epoch in range(1000):\n",
    "    optimizer.zero_grad()\n",
    "    loss = loss_fct(X, W, H)\n",
    "    loss.backward()\n",
    "    optimizer.step()\n",
    "    \n",
    "    if epoch % 100 == 0:\n",
    "        print(f\"Epoch: {epoch}, Loss: {loss}\")"
   ]
  },
  {
   "cell_type": "code",
   "execution_count": 10,
   "metadata": {},
   "outputs": [
    {
     "data": {
      "text/plain": [
       "tensor([[ 0.0977,  0.0420,  0.0748,  ...,  0.0481,  0.0441,  0.0490],\n",
       "        [ 0.0293,  0.0296,  0.0064,  ...,  0.0093,  0.0289,  0.0092],\n",
       "        [ 0.0368,  0.0383,  0.0354,  ...,  0.0362,  0.0331,  0.0527],\n",
       "        ...,\n",
       "        [ 0.0449,  0.0126,  0.0441,  ...,  0.0215,  0.0585,  0.0350],\n",
       "        [ 0.0230,  0.0121,  0.0377,  ..., -0.0030,  0.0379,  0.0163],\n",
       "        [ 0.0014,  0.0013,  0.0010,  ...,  0.0011,  0.0013,  0.0013]],\n",
       "       device='cuda:0', requires_grad=True)"
      ]
     },
     "execution_count": 10,
     "metadata": {},
     "output_type": "execute_result"
    }
   ],
   "source": [
    "W"
   ]
  }
 ],
 "metadata": {
  "kernelspec": {
   "display_name": "Python 3",
   "language": "python",
   "name": "python3"
  },
  "language_info": {
   "codemirror_mode": {
    "name": "ipython",
    "version": 3
   },
   "file_extension": ".py",
   "mimetype": "text/x-python",
   "name": "python",
   "nbconvert_exporter": "python",
   "pygments_lexer": "ipython3",
   "version": "3.7.4"
  }
 },
 "nbformat": 4,
 "nbformat_minor": 2
}
