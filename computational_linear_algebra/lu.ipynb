{
 "cells": [
  {
   "cell_type": "markdown",
   "metadata": {},
   "source": [
    "# LU decomposition\n",
    "\n",
    "LU decomposes a matrix A into a lower triangular matrix and an upper triangular matrix, i.e. $A = LU$.\n",
    "\n",
    "LU decomposition is very closely related to guassian elimination. $L$ contains the operations we perform on each row in the gaussian elimination and $U$ is the matrix after the elimination.\n",
    "\n",
    "LU has many application areas, one is to solve linear systems $Ax = b$ where we want to solve for many b's.\n",
    "\n",
    "Solving $Ax = b$ becomes $LUx = b$:\n",
    "\n",
    "- find $A = LU$\n",
    "- solve $Ly = b$\n",
    "- solve $Ux = y$\n",
    "\n",
    "This is easier since $L$ and $U$ are lower / upper matricies (i.e. we only need to \"replace\" values).\n",
    "\n",
    "Assuming a squared matrix of size $n x n$, the computational complexity is $O(n^3)$ and space complexity is $O(n^2)$."
   ]
  },
  {
   "cell_type": "code",
   "execution_count": 127,
   "metadata": {},
   "outputs": [],
   "source": [
    "import numpy as np\n",
    "import copy"
   ]
  },
  {
   "cell_type": "code",
   "execution_count": 128,
   "metadata": {},
   "outputs": [
    {
     "data": {
      "text/plain": [
       "array([[2., 1., 1., 0.],\n",
       "       [4., 3., 3., 1.],\n",
       "       [8., 7., 9., 5.],\n",
       "       [6., 7., 9., 8.]])"
      ]
     },
     "execution_count": 128,
     "metadata": {},
     "output_type": "execute_result"
    }
   ],
   "source": [
    "A = np.array([[2,1,1,0],[4,3,3,1],[8,7,9,5],[6,7,9,8]]).astype(np.float)\n",
    "A"
   ]
  },
  {
   "cell_type": "code",
   "execution_count": 129,
   "metadata": {},
   "outputs": [],
   "source": [
    "def lu(A):\n",
    "    U = copy.deepcopy(A)\n",
    "    n, m = A.shape\n",
    "    min_shape = min([n, m])\n",
    "    L = np.eye(n)\n",
    "\n",
    "    for i in range(min_shape - 1):\n",
    "        for j in range(i + 1, min_shape):\n",
    "            L[j, i] = U[j, i] / U[i, i]\n",
    "            U[j, :] -= L[j, i] * U[i, :]\n",
    "    return L, U"
   ]
  },
  {
   "cell_type": "code",
   "execution_count": 130,
   "metadata": {},
   "outputs": [
    {
     "data": {
      "text/plain": [
       "True"
      ]
     },
     "execution_count": 130,
     "metadata": {},
     "output_type": "execute_result"
    }
   ],
   "source": [
    "L, U = lu(A)\n",
    "np.allclose(A, L @ U)"
   ]
  },
  {
   "cell_type": "code",
   "execution_count": 137,
   "metadata": {},
   "outputs": [
    {
     "name": "stdout",
     "output_type": "stream",
     "text": [
      "---------- L ----------\n",
      "[[1. 0. 0. 0.]\n",
      " [2. 1. 0. 0.]\n",
      " [4. 3. 1. 0.]\n",
      " [3. 4. 1. 1.]]\n",
      "---------- U ----------\n",
      "[[2. 1. 1. 0.]\n",
      " [0. 1. 1. 1.]\n",
      " [0. 0. 2. 2.]\n",
      " [0. 0. 0. 2.]]\n"
     ]
    }
   ],
   "source": [
    "print(\"---------- L ----------\")\n",
    "print(L)\n",
    "print(\"---------- U ----------\")\n",
    "print(U)"
   ]
  },
  {
   "cell_type": "code",
   "execution_count": 147,
   "metadata": {},
   "outputs": [],
   "source": [
    "B = np.array([[1e-20, 1], [1, 1]])"
   ]
  },
  {
   "cell_type": "code",
   "execution_count": 148,
   "metadata": {},
   "outputs": [
    {
     "data": {
      "text/plain": [
       "False"
      ]
     },
     "execution_count": 148,
     "metadata": {},
     "output_type": "execute_result"
    }
   ],
   "source": [
    "L, U = lu(B)\n",
    "np.allclose(B, L @ U)"
   ]
  },
  {
   "cell_type": "code",
   "execution_count": 151,
   "metadata": {},
   "outputs": [],
   "source": [
    "def lu_pivot(A):\n",
    "    U = copy.deepcopy(A)\n",
    "    n, m = A.shape\n",
    "    min_shape = min([n, m])\n",
    "    L = np.eye(n)\n",
    "\n",
    "    for i in range(min_shape - 1):\n",
    "        U[i:, :].sort(axis=1)\n",
    "        for j in range(i + 1, min_shape):\n",
    "            \n",
    "            \n",
    "            L[j, i] = U[j, i] / U[i, i]\n",
    "            U[j, :] -= L[j, i] * U[i, :]\n",
    "    return L, U"
   ]
  },
  {
   "cell_type": "code",
   "execution_count": 152,
   "metadata": {},
   "outputs": [
    {
     "data": {
      "text/plain": [
       "False"
      ]
     },
     "execution_count": 152,
     "metadata": {},
     "output_type": "execute_result"
    }
   ],
   "source": [
    "Lp, Up = lu_pivot(B)\n",
    "np.allclose(B, Lp @ Up)"
   ]
  },
  {
   "cell_type": "code",
   "execution_count": null,
   "metadata": {},
   "outputs": [],
   "source": []
  }
 ],
 "metadata": {
  "kernelspec": {
   "display_name": "Python 3",
   "language": "python",
   "name": "python3"
  },
  "language_info": {
   "codemirror_mode": {
    "name": "ipython",
    "version": 3
   },
   "file_extension": ".py",
   "mimetype": "text/x-python",
   "name": "python",
   "nbconvert_exporter": "python",
   "pygments_lexer": "ipython3",
   "version": "3.7.4"
  }
 },
 "nbformat": 4,
 "nbformat_minor": 2
}
