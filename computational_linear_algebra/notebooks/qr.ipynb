{
 "cells": [
  {
   "cell_type": "markdown",
   "metadata": {},
   "source": [
    "# QR Factorization"
   ]
  },
  {
   "cell_type": "markdown",
   "metadata": {},
   "source": [
    "For any matrix $A$, $A = QR$ where $Q$ is orthogonal (i.e. columns and rows are orthogonal unit vectors) and $R$ is upper-triangular.\n",
    "\n",
    "One way to calculate $Q$ and $R$ is through the Gram-Schmidt method:\n",
    "\n",
    "![title](../figs/gram_schmidt.png)\n",
    "\n",
    "You can think of $(a \\cdot u)u$ as the piece of a that is in the direction of $u$. The part that is left over, $a −(a \\cdot u)u$, must naturally be the missing side of the triangle, and hence is perpendicular to $u$. So at each step of the Gram-Schmidt process, the formula:\n",
    "\n",
    "$$v_{n+1} = a - \\sum_{i=0}^n \\langle a, u_j \\rangle u_j $$\n",
    "$$u_{n+1} = \\frac{v_{n+1}}{||v_{n+1}||} $$\n",
    "\n",
    "does the following: it first subtracts all the pieces of a that are in the same direction as all the $u_j$, then it renormalizes. The resulting vector must be orthogonal to all the $u_j$'s since you just subtracted out all the pieces that were not perpendicular.\n",
    "\n",
    "$Q$ will contain the vectors $u_j$ and $R$ will contain $\\langle A_i, u_j \\rangle$.\n",
    "\n",
    "Assuming that $A$ has $n$ rows and $m$ columns, the complexity of Gram-Schmidt is $O(nm^2)$.\n",
    "\n",
    "Note that (classical) Gram-Schmidt is not stable; for stable QR factorization see [Householder](https://en.wikipedia.org/wiki/QR_decomposition)."
   ]
  },
  {
   "cell_type": "code",
   "execution_count": 1,
   "metadata": {},
   "outputs": [],
   "source": [
    "import numpy as np\n",
    "np.set_printoptions(suppress=True, precision=4)"
   ]
  },
  {
   "cell_type": "code",
   "execution_count": 2,
   "metadata": {},
   "outputs": [],
   "source": [
    "n = 5\n",
    "\n",
    "np.random.seed(42)\n",
    "A = np.random.rand(n,n)"
   ]
  },
  {
   "cell_type": "code",
   "execution_count": 3,
   "metadata": {},
   "outputs": [],
   "source": [
    "def gram_schmidt(A):\n",
    "    n, m = A.shape\n",
    "    Q = np.zeros((n, m))\n",
    "    R = np.zeros((m, m))\n",
    "    \n",
    "    for i in range(m):\n",
    "        v = A[:, i]\n",
    "        for j in range(i):\n",
    "            R[j, i] = np.dot(Q[:, j], A[:, i])\n",
    "            v = v - (R[j, i] * Q[:, j])\n",
    "        R[i, i] = np.linalg.norm(v)\n",
    "        Q[:, i] = v / R[i, i]\n",
    "    return Q, R"
   ]
  },
  {
   "cell_type": "code",
   "execution_count": 4,
   "metadata": {},
   "outputs": [],
   "source": [
    "Q, R = gram_schmidt(A)"
   ]
  },
  {
   "cell_type": "code",
   "execution_count": 5,
   "metadata": {},
   "outputs": [
    {
     "data": {
      "text/plain": [
       "True"
      ]
     },
     "execution_count": 5,
     "metadata": {},
     "output_type": "execute_result"
    }
   ],
   "source": [
    "np.allclose(A, Q @ R)"
   ]
  },
  {
   "cell_type": "code",
   "execution_count": 6,
   "metadata": {},
   "outputs": [
    {
     "data": {
      "text/plain": [
       "True"
      ]
     },
     "execution_count": 6,
     "metadata": {},
     "output_type": "execute_result"
    }
   ],
   "source": [
    "np.allclose(Q @ Q.T, np.eye(n))"
   ]
  },
  {
   "cell_type": "code",
   "execution_count": 7,
   "metadata": {},
   "outputs": [
    {
     "data": {
      "text/plain": [
       "array([[ 0.757 ,  0.6952,  0.9266,  0.8266,  0.6672],\n",
       "       [ 0.    ,  1.2152,  0.9133,  0.3439,  0.0446],\n",
       "       [ 0.    ,  0.    ,  0.8044,  0.484 ,  0.629 ],\n",
       "       [ 0.    ,  0.    ,  0.    ,  0.2231, -0.0933],\n",
       "       [ 0.    ,  0.    ,  0.    ,  0.    ,  0.0006]])"
      ]
     },
     "execution_count": 7,
     "metadata": {},
     "output_type": "execute_result"
    }
   ],
   "source": [
    "R"
   ]
  }
 ],
 "metadata": {
  "kernelspec": {
   "display_name": "Python 3",
   "language": "python",
   "name": "python3"
  },
  "language_info": {
   "codemirror_mode": {
    "name": "ipython",
    "version": 3
   },
   "file_extension": ".py",
   "mimetype": "text/x-python",
   "name": "python",
   "nbconvert_exporter": "python",
   "pygments_lexer": "ipython3",
   "version": "3.7.4"
  }
 },
 "nbformat": 4,
 "nbformat_minor": 2
}
