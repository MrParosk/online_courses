{
 "cells": [
  {
   "cell_type": "markdown",
   "metadata": {},
   "source": [
    "# SVD\n",
    "\n",
    "The idea of singular value decomposition is to decompose a matrix $M$ into three matricies, $U$, $S$, $V$:\n",
    "\n",
    "![title](../figs/svd.png)\n",
    "\n",
    "Where $U$ and $V$ are orthogonal and $S$ contains the relative importance of each factor (i.e. the singular values).\n",
    "\n",
    "For many application, we are only interested in a subset of the singular values ($k$ of them). Computing the full svd and taking the top $k$ values are usually inefficient.\n",
    "\n",
    "Randomized SVD allow us to compute the $k$ singular values faster. Also for many statistical problems the data might be noise / incomplete and computing the exact SVD is overkill.\n",
    "\n",
    "For a matrix $M$ of dimension $m \\times n$ the SVD has a computational cost of $O(nm * min(n,m))$. For randomized SVD where we want $k$ singular values, the computational is $O(nmk)$, where $n, m \\gg k$."
   ]
  },
  {
   "cell_type": "code",
   "execution_count": 1,
   "metadata": {},
   "outputs": [],
   "source": [
    "import numpy as np\n",
    "from scipy import linalg\n",
    "from sklearn.datasets import fetch_20newsgroups\n",
    "from sklearn.feature_extraction.text import TfidfVectorizer"
   ]
  },
  {
   "cell_type": "code",
   "execution_count": 2,
   "metadata": {},
   "outputs": [],
   "source": [
    "categories = ['alt.atheism', 'talk.religion.misc', 'comp.graphics', 'sci.space']\n",
    "remove = ('headers', 'footers', 'quotes')\n",
    "newsgroups = fetch_20newsgroups(subset='train', categories=categories, remove=remove)"
   ]
  },
  {
   "cell_type": "code",
   "execution_count": 3,
   "metadata": {},
   "outputs": [],
   "source": [
    "tfidf = TfidfVectorizer(stop_words='english')\n",
    "X = tfidf.fit_transform(newsgroups.data) # (documents, vocab)\n",
    "X = X.todense()\n",
    "X = np.array(X)"
   ]
  },
  {
   "cell_type": "code",
   "execution_count": 4,
   "metadata": {},
   "outputs": [],
   "source": [
    "def randomized_range_finder(A, size, n_iter=5):\n",
    "    \"\"\"\n",
    "        Computes an orthonormal matrix Q whose range approximates the range of A.\n",
    "        Can use:\n",
    "            - Power iteration (fast but unstable).\n",
    "            - LU (tradeof of the two other approaches).\n",
    "            - QR (slow but most accurate).\n",
    "    \"\"\"\n",
    "\n",
    "    Q = np.random.normal(size=(A.shape[1], size))\n",
    "\n",
    "    for i in range(n_iter):\n",
    "        Q, _ = linalg.lu(A @ Q, permute_l=True)\n",
    "        Q, _ = linalg.lu(A.T @ Q, permute_l=True)\n",
    "\n",
    "    Q, _ = linalg.qr(A @ Q, mode='economic')\n",
    "    return Q"
   ]
  },
  {
   "cell_type": "code",
   "execution_count": 5,
   "metadata": {},
   "outputs": [],
   "source": [
    "def randomized_svd(A, n_components, n_oversamples=10, n_iter=4):\n",
    "    n_random = n_components + n_oversamples\n",
    "\n",
    "    Q = randomized_range_finder(A, n_random, n_iter)\n",
    "\n",
    "    B = Q.T @ A\n",
    "\n",
    "    U_hat, s, V = linalg.svd(B, full_matrices=False)\n",
    "    del B\n",
    "    U = Q @ U_hat\n",
    "\n",
    "    return U[:, :n_components], s[:n_components], V[:n_components, :]"
   ]
  },
  {
   "cell_type": "code",
   "execution_count": 6,
   "metadata": {},
   "outputs": [
    {
     "name": "stdout",
     "output_type": "stream",
     "text": [
      "CPU times: user 1.34 s, sys: 6.46 ms, total: 1.35 s\n",
      "Wall time: 353 ms\n"
     ]
    }
   ],
   "source": [
    "np.random.seed(42)\n",
    "%time u, s, v = randomized_svd(X, 5)"
   ]
  },
  {
   "cell_type": "code",
   "execution_count": 7,
   "metadata": {},
   "outputs": [
    {
     "name": "stdout",
     "output_type": "stream",
     "text": [
      "CPU times: user 32.2 s, sys: 654 ms, total: 32.8 s\n",
      "Wall time: 8.7 s\n"
     ]
    }
   ],
   "source": [
    "%time u_full, s_full, v_full = linalg.svd(X, full_matrices=False)"
   ]
  },
  {
   "cell_type": "code",
   "execution_count": 8,
   "metadata": {},
   "outputs": [
    {
     "name": "stdout",
     "output_type": "stream",
     "text": [
      "Singular values for randomized SVD:\n",
      "[5.19203756 3.54422516 3.07251962 2.84901097 2.68890078]\n",
      "\n",
      "Singular values for full SVD:\n",
      "[5.19203791 3.54430061 3.0736553  2.85311835 2.69921543]\n"
     ]
    }
   ],
   "source": [
    "print(\"Singular values for randomized SVD:\")\n",
    "print(s)\n",
    "print()\n",
    "print(\"Singular values for full SVD:\")\n",
    "print(s_full[0:5])"
   ]
  }
 ],
 "metadata": {
  "kernelspec": {
   "display_name": "Python 3",
   "language": "python",
   "name": "python3"
  },
  "language_info": {
   "codemirror_mode": {
    "name": "ipython",
    "version": 3
   },
   "file_extension": ".py",
   "mimetype": "text/x-python",
   "name": "python",
   "nbconvert_exporter": "python",
   "pygments_lexer": "ipython3",
   "version": "3.7.4"
  }
 },
 "nbformat": 4,
 "nbformat_minor": 2
}
